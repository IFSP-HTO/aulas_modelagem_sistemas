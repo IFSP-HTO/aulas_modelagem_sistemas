#!/usr/bin/env python3
# -*- coding: utf-8 -*-
"""
Created on Tue Aug 15 21:26:42 2023

@author: leonardo
"""
