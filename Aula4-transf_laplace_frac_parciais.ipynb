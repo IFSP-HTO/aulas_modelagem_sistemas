{
 "cells": [
  {
   "cell_type": "markdown",
   "id": "dbf3c7de-87bf-4be1-92fe-eeff4266ee50",
   "metadata": {},
   "source": [
    "# Aula 4 - Transformadas de Laplace e decomposição em frações parciais usando Python"
   ]
  },
  {
   "cell_type": "markdown",
   "id": "62d7e1b3-275c-461b-9bb7-1347ff554f9a",
   "metadata": {},
   "source": [
    "Vamos usar a biblioteca ```sympy```, que permite a manipulação de matemática simbólica, isto é, usando símbolos ao invés de números."
   ]
  },
  {
   "cell_type": "code",
   "execution_count": 1,
   "id": "93888f5a-3585-4ebd-a161-83ff46929919",
   "metadata": {},
   "outputs": [],
   "source": [
    "from sympy import Symbol, laplace_transform, inverse_laplace_transform, exp, cos, sin, plot\n"
   ]
  },
  {
   "cell_type": "markdown",
   "id": "8293cb7c-6f92-4680-9c01-3c80f5820a3a",
   "metadata": {},
   "source": [
    "Agora, criaremos variáveis para representar o tempo e a variável complexa ```s```"
   ]
  },
  {
   "cell_type": "code",
   "execution_count": 2,
   "id": "bd6a3042-e8db-4968-a875-ef5dd98bea13",
   "metadata": {},
   "outputs": [],
   "source": [
    "t = Symbol('t')\n",
    "s = Symbol('s')"
   ]
  },
  {
   "cell_type": "markdown",
   "id": "28aa7085-cdd0-4ce3-9aee-ca7a49f2b8ea",
   "metadata": {},
   "source": [
    "## Funções para facilitar o uso da transformada de Laplace\n",
    "\n",
    "O ```sympy``` possui funções para a transformada direta e inversa de Laplace, mas seus nomes são muito longos. Para facilitar, vamos criar funções mais simples de chamar."
   ]
  },
  {
   "cell_type": "code",
   "execution_count": 1,
   "id": "c4e0ff92-772c-433a-80cd-278aa9a85a58",
   "metadata": {},
   "outputs": [],
   "source": [
    "def L(f):\n",
    "    \"\"\"\n",
    "    Transformada de Laplace de t para s\n",
    "    \"\"\"\n",
    "    return laplace_transform(L,t,s)\n",
    "\n",
    "def iL(f): \n",
    "    \"\"\"\n",
    "    Transformada inversa de Laplace de s para t\n",
    "    \"\"\"\n",
    "    return inverse_laplace_transform(L,s,t)"
   ]
  },
  {
   "cell_type": "markdown",
   "id": "ddd7c2ec-19e4-4cc3-a999-e951ccc581c0",
   "metadata": {},
   "source": [
    "Vamos testar:"
   ]
  },
  {
   "cell_type": "code",
   "execution_count": 6,
   "id": "3b150ae5-a6f7-47cc-85f2-6801dd23bdca",
   "metadata": {
    "scrolled": true
   },
   "outputs": [
    {
     "ename": "SympifyError",
     "evalue": "Sympify of expression 'could not parse '<function L at 0x7f9aaddb5e50>'' failed, because of exception being raised:\nSyntaxError: invalid syntax (<string>, line 1)",
     "output_type": "error",
     "traceback": [
      "\u001b[0;31mValueError\u001b[0m\u001b[0;31m:\u001b[0m Error from parse_expr with transformed code: \"<Symbol ('function' )Symbol ('L' )Symbol ('at' )Integer (0x7f9aaddb5e50 )>\"\n",
      "\nThe above exception was the direct cause of the following exception:\n",
      "Traceback \u001b[0;36m(most recent call last)\u001b[0m:\n",
      "\u001b[0m  File \u001b[1;32m~/local/miniconda3/lib/python3.9/site-packages/sympy/core/sympify.py:496\u001b[0m in \u001b[1;35msympify\u001b[0m\n    expr = parse_expr(a, local_dict=locals, transformations=transformations, evaluate=evaluate)\u001b[0m\n",
      "\u001b[0m  File \u001b[1;32m~/local/miniconda3/lib/python3.9/site-packages/sympy/parsing/sympy_parser.py:1101\u001b[0m in \u001b[1;35mparse_expr\u001b[0m\n    raise e from ValueError(f\"Error from parse_expr with transformed code: {code!r}\")\u001b[0m\n",
      "\u001b[0m  File \u001b[1;32m~/local/miniconda3/lib/python3.9/site-packages/sympy/parsing/sympy_parser.py:1092\u001b[0m in \u001b[1;35mparse_expr\u001b[0m\n    rv = eval_expr(code, local_dict, global_dict)\u001b[0m\n",
      "\u001b[0;36m  File \u001b[0;32m~/local/miniconda3/lib/python3.9/site-packages/sympy/parsing/sympy_parser.py:907\u001b[0;36m in \u001b[0;35meval_expr\u001b[0;36m\n\u001b[0;31m    expr = eval(\u001b[0;36m\n",
      "\u001b[0;36m  File \u001b[0;32m<string>:1\u001b[0;36m\u001b[0m\n\u001b[0;31m    <Symbol ('function' )Symbol ('L' )Symbol ('at' )Integer (0x7f9aaddb5e50 )>\u001b[0m\n\u001b[0m    ^\u001b[0m\n\u001b[0;31mSyntaxError\u001b[0m\u001b[0;31m:\u001b[0m invalid syntax\n",
      "\nDuring handling of the above exception, another exception occurred:\n",
      "Traceback \u001b[0;36m(most recent call last)\u001b[0m:\n",
      "\u001b[0m  Cell \u001b[1;32mIn[6], line 4\u001b[0m\n    L(f)\u001b[0m\n",
      "\u001b[0m  Cell \u001b[1;32mIn[3], line 5\u001b[0m in \u001b[1;35mL\u001b[0m\n    return laplace_transform(L,t,s)\u001b[0m\n",
      "\u001b[0m  File \u001b[1;32m~/local/miniconda3/lib/python3.9/site-packages/sympy/integrals/transforms.py:1933\u001b[0m in \u001b[1;35mlaplace_transform\u001b[0m\n    return LaplaceTransform(f, t, s).doit(**hints)\u001b[0m\n",
      "\u001b[0m  File \u001b[1;32m~/local/miniconda3/lib/python3.9/site-packages/sympy/core/cache.py:70\u001b[0m in \u001b[1;35mwrapper\u001b[0m\n    retval = cfunc(*args, **kwargs)\u001b[0m\n",
      "\u001b[0m  File \u001b[1;32m~/local/miniconda3/lib/python3.9/site-packages/sympy/core/function.py:469\u001b[0m in \u001b[1;35m__new__\u001b[0m\n    result = super().__new__(cls, *args, **options)\u001b[0m\n",
      "\u001b[0m  File \u001b[1;32m~/local/miniconda3/lib/python3.9/site-packages/sympy/core/cache.py:70\u001b[0m in \u001b[1;35mwrapper\u001b[0m\n    retval = cfunc(*args, **kwargs)\u001b[0m\n",
      "\u001b[0m  File \u001b[1;32m~/local/miniconda3/lib/python3.9/site-packages/sympy/core/function.py:299\u001b[0m in \u001b[1;35m__new__\u001b[0m\n    args = list(map(sympify, args))\u001b[0m\n",
      "\u001b[0;36m  File \u001b[0;32m~/local/miniconda3/lib/python3.9/site-packages/sympy/core/sympify.py:498\u001b[0;36m in \u001b[0;35msympify\u001b[0;36m\n\u001b[0;31m    raise SympifyError('could not parse %r' % a, exc)\u001b[0;36m\n",
      "\u001b[0;31mSympifyError\u001b[0m\u001b[0;31m:\u001b[0m Sympify of expression 'could not parse '<function L at 0x7f9aaddb5e50>'' failed, because of exception being raised:\nSyntaxError: invalid syntax (<string>, line 1)\n"
     ]
    }
   ],
   "source": [
    "f = exp(-t/2)*cos(4*t)\n",
    "plot(f,(t,0,10),show=True)\n",
    "\n",
    "L(f)"
   ]
  }
 ],
 "metadata": {
  "kernelspec": {
   "display_name": "Python 3 (Spyder)",
   "language": "python3",
   "name": "python3"
  },
  "language_info": {
   "codemirror_mode": {
    "name": "ipython",
    "version": 3
   },
   "file_extension": ".py",
   "mimetype": "text/x-python",
   "name": "python",
   "nbconvert_exporter": "python",
   "pygments_lexer": "ipython3",
   "version": "3.9.16"
  }
 },
 "nbformat": 4,
 "nbformat_minor": 5
}
