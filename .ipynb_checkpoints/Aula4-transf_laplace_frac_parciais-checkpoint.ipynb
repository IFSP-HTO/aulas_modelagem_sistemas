{
 "cells": [
  {
   "cell_type": "markdown",
   "id": "dbf3c7de-87bf-4be1-92fe-eeff4266ee50",
   "metadata": {},
   "source": [
    "# Aula 4 - Transformadas de Laplace e decomposição em frações parciais usando Python"
   ]
  },
  {
   "cell_type": "markdown",
   "id": "62d7e1b3-275c-461b-9bb7-1347ff554f9a",
   "metadata": {},
   "source": [
    "Vamos usar a biblioteca ```sympy```, que permite a manipulação de matemática simbólica, isto é, usando símbolos ao invés de números."
   ]
  },
  {
   "cell_type": "code",
   "execution_count": 1,
   "id": "93888f5a-3585-4ebd-a161-83ff46929919",
   "metadata": {},
   "outputs": [],
   "source": [
    "from sympy import Symbol, laplace_transform, inverse_laplace_transform, exp, cos, sin, plot, init_printing\n",
    "init_printing()"
   ]
  },
  {
   "cell_type": "markdown",
   "id": "8293cb7c-6f92-4680-9c01-3c80f5820a3a",
   "metadata": {},
   "source": [
    "Agora, criaremos variáveis para representar o tempo e a variável complexa ```s```"
   ]
  },
  {
   "cell_type": "code",
   "execution_count": 2,
   "id": "bd6a3042-e8db-4968-a875-ef5dd98bea13",
   "metadata": {},
   "outputs": [],
   "source": [
    "t = Symbol('t')\n",
    "s = Symbol('s')"
   ]
  },
  {
   "cell_type": "markdown",
   "id": "28aa7085-cdd0-4ce3-9aee-ca7a49f2b8ea",
   "metadata": {},
   "source": [
    "## Funções para facilitar o uso da transformada de Laplace\n",
    "\n",
    "O ```sympy``` possui funções para a transformada direta e inversa de Laplace, mas seus nomes são muito longos. Para facilitar, vamos criar funções mais simples de chamar."
   ]
  },
  {
   "cell_type": "code",
   "execution_count": 3,
   "id": "c4e0ff92-772c-433a-80cd-278aa9a85a58",
   "metadata": {},
   "outputs": [],
   "source": [
    "def L(f):\n",
    "    \"\"\"\n",
    "    Transformada de Laplace de t para s\n",
    "    \"\"\"\n",
    "    return laplace_transform(f,t,s,noconds=True)\n",
    "\n",
    "def iL(F): \n",
    "    \"\"\"\n",
    "    Transformada inversa de Laplace de s para t\n",
    "    \"\"\"\n",
    "    return inverse_laplace_transform(F,s,t)"
   ]
  },
  {
   "cell_type": "markdown",
   "id": "ddd7c2ec-19e4-4cc3-a999-e951ccc581c0",
   "metadata": {},
   "source": [
    "Vamos testar:"
   ]
  },
  {
   "cell_type": "code",
   "execution_count": 4,
   "id": "3b150ae5-a6f7-47cc-85f2-6801dd23bdca",
   "metadata": {
    "scrolled": true
   },
   "outputs": [
    {
     "name": "stdout",
     "output_type": "stream",
     "text": [
      "exp(-t/2)*cos(2*t)*Heaviside(t)\n"
     ]
    }
   ],
   "source": [
    "f = exp(-t/2)*cos(2*t)\n",
    "plot(f,(t,0,10),show=True)\n",
    "\n",
    "F=L(f)\n",
    "\n",
    "print(iL(F))"
   ]
  },
  {
   "cell_type": "markdown",
   "id": "7825251a-3927-4e27-a172-b106c800192b",
   "metadata": {},
   "source": [
    "## Decomposição em frações parciais\n",
    "\n",
    "Mesmo algoritmos de cálculo simbólico bons, como o ```sympy```, podem precisar de simplificações nas funções $$F(s)$$."
   ]
  }
 ],
 "metadata": {
  "kernelspec": {
   "display_name": "Python 3 (Spyder)",
   "language": "python3",
   "name": "python3"
  },
  "language_info": {
   "codemirror_mode": {
    "name": "ipython",
    "version": 3
   },
   "file_extension": ".py",
   "mimetype": "text/x-python",
   "name": "python",
   "nbconvert_exporter": "python",
   "pygments_lexer": "ipython3",
   "version": "3.9.16"
  }
 },
 "nbformat": 4,
 "nbformat_minor": 5
}
