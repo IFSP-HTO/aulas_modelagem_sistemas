{
 "cells": [
  {
   "cell_type": "markdown",
   "id": "6d6f63e2-9168-4f8d-ab94-da5fd76c6a70",
   "metadata": {},
   "source": [
    "# Aula 8 - Modelagem de sistemas mecânicos\n",
    "## Sistema massa-mola-amortecedor"
   ]
  },
  {
   "cell_type": "markdown",
   "id": "06a973a0-f719-474c-80c1-5abf42811a4f",
   "metadata": {},
   "source": [
    "Importando as bibliotecas"
   ]
  },
  {
   "cell_type": "code",
   "execution_count": 1,
   "id": "62980638-348e-4938-82d5-35a605e2bec1",
   "metadata": {},
   "outputs": [],
   "source": [
    "import sympy as sp\n",
    "import matplotlib.pyplot as plt"
   ]
  },
  {
   "cell_type": "markdown",
   "id": "19a9871c-1fbf-4492-875c-cebeefc10f4d",
   "metadata": {},
   "source": [
    "### Definição do sistema\n",
    "\n",
    "- `m` - massa\n",
    "- `k` - rigidez da mola\n",
    "- `c` - amortecimento\n",
    "- `l0` - comprimento livre da mola\n",
    "- `xp` - posição da parede em relação à massa"
   ]
  },
  {
   "cell_type": "code",
   "execution_count": 2,
   "id": "d61b7b25-3e12-4ec0-b766-724fc2ee3584",
   "metadata": {},
   "outputs": [],
   "source": [
    "m = 10\n",
    "k = 2\n",
    "c = 0.85\n",
    "l0 = 1.1\n",
    "xp = -1.0"
   ]
  },
  {
   "cell_type": "markdown",
   "id": "b17d1de8-bdb6-483a-896f-9e708df6457a",
   "metadata": {},
   "source": [
    "Cálculo de propriedades dinâmicas"
   ]
  },
  {
   "cell_type": "code",
   "execution_count": 13,
   "id": "2097c813-0be0-44ad-9bd4-2727f42c5e94",
   "metadata": {},
   "outputs": [],
   "source": [
    "wn = sp.Rational(sp.sqrt(k/m))\n",
    "zeta = c / (2*wn*m)"
   ]
  },
  {
   "cell_type": "code",
   "execution_count": 12,
   "id": "c33bfb83-161f-4f57-a9d2-baec90f2ed15",
   "metadata": {},
   "outputs": [
    {
     "name": "stdout",
     "output_type": "stream",
     "text": [
      "0.447213595499958\n"
     ]
    }
   ],
   "source": [
    "print(wn)"
   ]
  },
  {
   "cell_type": "code",
   "execution_count": 5,
   "id": "25ef2a83-68e9-4324-ab34-003f6de32093",
   "metadata": {},
   "outputs": [
    {
     "name": "stdout",
     "output_type": "stream",
     "text": [
      "0.0950328890437411\n",
      "Sistema subamortecido\n"
     ]
    }
   ],
   "source": [
    "print(zeta)\n",
    "if zeta > 1:\n",
    "    print('Sistema superamortecido')\n",
    "elif zeta ==1:\n",
    "    print('Sistema criticamente amortecido')\n",
    "else:\n",
    "    print('Sistema subamortecido')"
   ]
  },
  {
   "cell_type": "markdown",
   "id": "2842344c-7561-4458-81e7-b1ec2d97b1e4",
   "metadata": {},
   "source": [
    "### Definição da função de transferência do sistema"
   ]
  },
  {
   "cell_type": "code",
   "execution_count": 6,
   "id": "c4293712-0cbc-4d79-a2a0-195e6228f6c1",
   "metadata": {},
   "outputs": [
    {
     "data": {
      "text/latex": [
       "$\\displaystyle \\frac{0.1}{s^{2} + 0.085 s + 0.447213595499958}$"
      ],
      "text/plain": [
       "0.1/(s**2 + 0.085*s + 0.447213595499958)"
      ]
     },
     "execution_count": 6,
     "metadata": {},
     "output_type": "execute_result"
    }
   ],
   "source": [
    "s = sp.Symbol('s')\n",
    "t = sp.Symbol('t',real=True)\n",
    "\n",
    "G = (1/m)/(s**2 + 2*zeta*wn*s + wn)\n",
    "# mostra G:\n",
    "G"
   ]
  },
  {
   "cell_type": "markdown",
   "id": "1e664cd2-d9b4-4b5d-804d-3ff32f6a525b",
   "metadata": {},
   "source": [
    "### Resposta ao impulso unitário"
   ]
  },
  {
   "cell_type": "code",
   "execution_count": 7,
   "id": "6bc14241-b133-4c4a-b52b-dc77911d38d0",
   "metadata": {},
   "outputs": [
    {
     "data": {
      "text/plain": [
       "<sympy.plotting.plot.Plot at 0x1cb4d617e50>"
      ]
     },
     "execution_count": 7,
     "metadata": {},
     "output_type": "execute_result"
    }
   ],
   "source": [
    "Xd = G\n",
    "xd = sp.inverse_laplace_transform(Xd,s,t)\n",
    "sp.plot(xd,(t,0,40))"
   ]
  },
  {
   "cell_type": "markdown",
   "id": "879b67e4-bbe9-40bd-aa46-8f60f7d3535c",
   "metadata": {},
   "source": [
    "### Resposta ao degrau unitário"
   ]
  },
  {
   "cell_type": "code",
   "execution_count": 21,
   "id": "5f8ca127-fefa-489f-b9db-6da7f9a74a7c",
   "metadata": {},
   "outputs": [],
   "source": [
    "Xu = G * 1/s\n",
    "Xu\n",
    "Xu=sp.nsimplify(Xu)"
   ]
  },
  {
   "cell_type": "code",
   "execution_count": 22,
   "id": "1f23a977-3fc1-45df-a95f-6449178a1fad",
   "metadata": {},
   "outputs": [
    {
     "data": {
      "text/plain": [
       "<sympy.plotting.plot.Plot at 0x1cb4cecc940>"
      ]
     },
     "execution_count": 22,
     "metadata": {},
     "output_type": "execute_result"
    }
   ],
   "source": [
    "xu = sp.inverse_laplace_transform(Xu,s,t)\n",
    "sp.plot(xu,(t,0,40))"
   ]
  }
 ],
 "metadata": {
  "kernelspec": {
   "display_name": "Python 3 (Spyder)",
   "language": "python3",
   "name": "python3"
  },
  "language_info": {
   "codemirror_mode": {
    "name": "ipython",
    "version": 3
   },
   "file_extension": ".py",
   "mimetype": "text/x-python",
   "name": "python",
   "nbconvert_exporter": "python",
   "pygments_lexer": "ipython3",
   "version": "3.9.12"
  }
 },
 "nbformat": 4,
 "nbformat_minor": 5
}
